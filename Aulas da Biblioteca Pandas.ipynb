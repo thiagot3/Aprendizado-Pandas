{
 "cells": [
  {
   "cell_type": "code",
   "execution_count": null,
   "id": "5615883a",
   "metadata": {},
   "outputs": [],
   "source": [
    "\"\"\"\n",
    "    CASO O PANDAS OU OUTRA BIBLIOTECA UTILIZADA NÂO ESTEJAM INSTALADOS EXECUTE:\n",
    "      #instalar Pandas \n",
    "        !pip install pandas\n",
    "\"\"\"\n",
    "#Importando o pandas para a aplicação:\n",
    "import pandas as pd"
   ]
  },
  {
   "cell_type": "markdown",
   "id": "60dafd87",
   "metadata": {},
   "source": [
    "#### Data Series X Data Frame"
   ]
  },
  {
   "cell_type": "code",
   "execution_count": null,
   "id": "445fb3a2",
   "metadata": {},
   "outputs": [],
   "source": [
    "#Criando series\n",
    "nomes = [\n",
    "    'Thiago Gambati',\n",
    "    'Manoel Neto',\n",
    "    'Joesley Ferreira',\n",
    "    'Ingrid Dandara'\n",
    "]\n",
    "indice = [0,1,2,3]\n",
    "ex_series = pd.Series(nomes, indice, name = 'Nomes')\n",
    "ex_series"
   ]
  },
  {
   "cell_type": "code",
   "execution_count": null,
   "id": "a15a456c",
   "metadata": {},
   "outputs": [],
   "source": [
    "#Criando DataFrame\n",
    "df = pd.DataFrame({\n",
    "    \"nome\" : ['Thiago Gambati', 'Manoel Neto', 'Joesley Ferreira', 'Ingrid Dandara'], \n",
    "    \"idade\" : [22, 21, 23, 21],\n",
    "    \"faculdade\" : ['Ciência da Computação', 'Educação Física', 'Arquitetura', 'Medicina Veterinária']\n",
    "})\n",
    "df"
   ]
  },
  {
   "cell_type": "code",
   "execution_count": null,
   "id": "cd762e62",
   "metadata": {
    "scrolled": true
   },
   "outputs": [],
   "source": [
    "#Obtendo coluna específica\n",
    "df[\"faculdade\"] #Toda coluna de um Data Frame é uma Data Series"
   ]
  },
  {
   "cell_type": "markdown",
   "id": "4003bb1d",
   "metadata": {},
   "source": [
    "#### Importando dados"
   ]
  },
  {
   "cell_type": "code",
   "execution_count": null,
   "id": "123aca84",
   "metadata": {},
   "outputs": [],
   "source": [
    "#Salvando o arquivo em uma variável a ser trabalhada\n",
    "dados = pd.read_csv(\n",
    "    r\"C:\\Users\\thiag\\OneDrive\\Documentos\\Python Scripts\\Formação DEX\\Pandas\\Arquivos da Aplicação\\credit_card_clients.csv\")\n",
    "dados"
   ]
  },
  {
   "cell_type": "markdown",
   "id": "4a9f3f49",
   "metadata": {},
   "source": [
    "Metadados do DataFrame:\n",
    "\n",
    "   O conjunto de dados credit contém informações sobre pagamentos, fatores demográficos, dados de crédito, histórico de pagamentos e extratos de contas de clientes de cartão de crédito em Taiwan de abril de 2005 a setembro de 2005.\n",
    "\n",
    "   O DataFrame contém 25 variáveis:\n",
    "\n",
    "    ID: ID de cada cliente.\n",
    "\n",
    "    LIMIT_BAL: Valor do crédito concedido em NT (New Taiwan) dólar (inclui crédito individual e familiar/complementar).\n",
    "\n",
    "    SEXO: Gênero (1=masculino, 2=feminino).\n",
    "\n",
    "    EDUCAÇÃO: (1 = pós-graduação, 2 = universidade, 3 = ensino médio, 4 = outros, 5 = desconhecido, 6 = desconhecido).\n",
    "\n",
    "    CASAMENTO: Estado civil (1=casado, 2=solteiro, 3=outros).\n",
    "\n",
    "    IDADE: Idade em anos.\n",
    "\n",
    "    PAY_0: Status de pagamento em setembro de 2005 .(-1=pagamento devido, 1=atraso de pagamento por um mês, 2=atraso de pagamento por dois meses, … 8=atraso de pagamento por oito meses, 9=atraso de pagamento por nove meses e acima).\n",
    "\n",
    "    PAY_2: Status de reembolso em agosto de 2005 (escala igual à acima).\n",
    "\n",
    "    PAY_3: Status de reembolso em julho de 2005 (escala igual à acima).\n",
    "\n",
    "    PAY_4: Status de reembolso em junho de 2005 (escala igual à acima).\n",
    "\n",
    "    PAY_5: Status de reembolso em maio de 2005 (escala igual à acima).\n",
    "\n",
    "    PAY_6: Status de reembolso em abril de 2005 (escala igual à acima).\n",
    "\n",
    "    BILL_AMT1: Valor do extrato da conta em setembro de 2005 (dólar NT).\n",
    "\n",
    "    BILL_AMT2: Valor do extrato da conta em agosto de 2005 (dólar NT).\n",
    "\n",
    "    BILL_AMT3: Valor do extrato da conta em julho de 2005 (dólar NT).\n",
    "\n",
    "    BILL_AMT4: Valor do extrato da conta em junho de 2005 (dólar NT).\n",
    "\n",
    "    BILL_AMT5: Valor do extrato da conta em maio de 2005 (dólar NT).\n",
    "\n",
    "    BILL_AMT6: Valor do extrato da conta em abril de 2005 (dólar NT).\n",
    "\n",
    "    PAY_AMT1: Valor do pagamento anterior em setembro de 2005 (dólar NT).\n",
    "\n",
    "    PAY_AMT2: Valor do pagamento anterior em agosto de 2005 (dólar NT).\n",
    "\n",
    "    PAY_AMT3: Valor do pagamento anterior em julho de 2005 (dólar NT).\n",
    "\n",
    "    PAY_AMT4: Valor do pagamento anterior em junho de 2005 (dólar NT).\n",
    "\n",
    "    PAY_AMT5: Valor do pagamento anterior em maio de 2005 (dólar NT).\n",
    "\n",
    "    PAY_AMT6: Valor do pagamento anterior em abril de 2005 (dólar NT).\n",
    "\n",
    "    default.payment.next.month: Pagamento padrão (1=sim, 0=não)."
   ]
  },
  {
   "cell_type": "markdown",
   "id": "c16661ac",
   "metadata": {},
   "source": [
    "#### Extraindo informações do DataFrame"
   ]
  },
  {
   "cell_type": "code",
   "execution_count": null,
   "id": "219f87fe",
   "metadata": {},
   "outputs": [],
   "source": [
    "#Mostrando informações das colunas\n",
    "dados.info()"
   ]
  },
  {
   "cell_type": "code",
   "execution_count": null,
   "id": "e792e4b9",
   "metadata": {},
   "outputs": [],
   "source": [
    "#Mostrando 7 primeiros registros do DataFrame\n",
    "dados.head(7)"
   ]
  },
  {
   "cell_type": "code",
   "execution_count": null,
   "id": "2d6301c8",
   "metadata": {},
   "outputs": [],
   "source": [
    "#Mostrando 7 últimos registros do DataFrame\n",
    "dados.tail(7)"
   ]
  },
  {
   "cell_type": "code",
   "execution_count": null,
   "id": "ef067570",
   "metadata": {},
   "outputs": [],
   "source": [
    "#Consultando dimensões\n",
    "dados.shape"
   ]
  },
  {
   "cell_type": "code",
   "execution_count": null,
   "id": "455cfa0a",
   "metadata": {},
   "outputs": [],
   "source": [
    "#Renomeando colunas\n",
    "dados_renamed = dados.rename(columns = {'LIMIT_BAL' : 'valor_credito',\n",
    "                                        'SEX' : 'sexo',\n",
    "                                        'EDUCATION' : 'escolaridade',\n",
    "                                        'MARRIAGE':'estado_civil',\n",
    "                                        'AGE':'idade',\n",
    "                                        'PAY_0':'status_pag_set_2005',\n",
    "                                        'PAY_2':'status_pag_ago_2005',\n",
    "                                        'PAY_3':'status_pag_jul_2005',\n",
    "                                        'PAY_4':'status_pag_jun_2005',\n",
    "                                        'PAY_5':'status_pag_mai_2005',\n",
    "                                        'PAY_6':'status_pag_abr_2005',\n",
    "                                        'BILL_AMT1':'extrato_set_2005',\n",
    "                                        'BILL_AMT2':'extrato_ago_2005',\n",
    "                                        'BILL_AMT3':'extrato_jul_2005',\n",
    "                                        'BILL_AMT4':'extrato_jun_2005',\n",
    "                                        'BILL_AMT5':'extrato_mai_2005',\n",
    "                                        'BILL_AMT6':'extrato_abr_2005',\n",
    "                                        'PAY_AMT1':'valor_pag_set_2005',\n",
    "                                        'PAY_AMT2':'valor_pag_ago_2005',\n",
    "                                        'PAY_AMT3':'valor_pag_jul_2005',\n",
    "                                        'PAY_AMT4':'valor_pag_jun_2005',\n",
    "                                        'PAY_AMT5':'valor_pag_mai_2005',\n",
    "                                        'PAY_AMT6':'valor_pag_abr_2005'})\n",
    "dados_renamed"
   ]
  },
  {
   "cell_type": "code",
   "execution_count": null,
   "id": "6cf83d8c",
   "metadata": {
    "scrolled": true
   },
   "outputs": [],
   "source": [
    "'''\n",
    "Caso essa linha seja executada mais de uma vez, resultará em erro, pois a coluna\n",
    "\"default payment next month\" já foi apagada\n",
    "'''\n",
    "#Excluindo uma coluna\n",
    "                                    #inplace aplica as ações no DataFrame caso (True)\n",
    "dados_renamed.drop(\"default payment next month\", axis = 1, inplace = True) \n",
    "dados_renamed\n"
   ]
  },
  {
   "cell_type": "code",
   "execution_count": null,
   "id": "d234ae23",
   "metadata": {},
   "outputs": [],
   "source": [
    "#Salvando dados do DataFrame em arquivo\n",
    "dados_renamed.to_excel(\"Arquivos da Aplicação/Resultado.xlsx\")"
   ]
  },
  {
   "cell_type": "code",
   "execution_count": null,
   "id": "d54a62a2",
   "metadata": {},
   "outputs": [],
   "source": [
    "#Acessando rotulo das linhas\n",
    "dados_renamed.index"
   ]
  },
  {
   "cell_type": "code",
   "execution_count": null,
   "id": "d99473af",
   "metadata": {},
   "outputs": [],
   "source": [
    "#Acessando rotulo das colunas\n",
    "dados_renamed.columns"
   ]
  },
  {
   "cell_type": "code",
   "execution_count": null,
   "id": "fa767927",
   "metadata": {},
   "outputs": [],
   "source": [
    "#Acessando rotulo das colunas de outra forma\n",
    "dados_renamed.keys()"
   ]
  },
  {
   "cell_type": "code",
   "execution_count": null,
   "id": "ed3150dc",
   "metadata": {},
   "outputs": [],
   "source": [
    "#Identificando os valores do DataSet a partir de um objeto ndarray\n",
    "dados_renamed.values"
   ]
  },
  {
   "cell_type": "code",
   "execution_count": null,
   "id": "341afb26",
   "metadata": {},
   "outputs": [],
   "source": [
    "#Identificando os valores do DataSet a partir de um objeto ndarray de outra forma\n",
    "dados_renamed.to_numpy()"
   ]
  },
  {
   "cell_type": "code",
   "execution_count": null,
   "id": "51634148",
   "metadata": {},
   "outputs": [],
   "source": [
    "#Identificando os tipos de dados contidos em cada coluna\n",
    "dados_renamed.dtypes"
   ]
  },
  {
   "cell_type": "code",
   "execution_count": null,
   "id": "c7f1774f",
   "metadata": {},
   "outputs": [],
   "source": [
    "#tambem pode ser usado df.info() para mostrar mais especificações\n",
    "dados_renamed.info()"
   ]
  },
  {
   "cell_type": "code",
   "execution_count": null,
   "id": "a532232d",
   "metadata": {},
   "outputs": [],
   "source": [
    "'''\n",
    "#Código pesado, caso queira executar, basta apagar  (\\''' ) \n",
    "\n",
    "#Iterando linhas e colunas do DataFrame\n",
    "for index, row in dados_renamed.iterrows():\n",
    "    print(index)\n",
    "    print (row)\n",
    "    \n",
    "'''"
   ]
  },
  {
   "cell_type": "markdown",
   "id": "f23f3599",
   "metadata": {},
   "source": [
    "#### Selecionar valores específicos de um DataFrame"
   ]
  },
  {
   "cell_type": "code",
   "execution_count": null,
   "id": "98d5e975",
   "metadata": {},
   "outputs": [],
   "source": [
    "#Acessando uma coluna\n",
    "dados_renamed ['valor_credito']"
   ]
  },
  {
   "cell_type": "code",
   "execution_count": null,
   "id": "9134cf49",
   "metadata": {},
   "outputs": [],
   "source": [
    "#Com outra sintaxe\n",
    "dados_renamed.valor_credito"
   ]
  },
  {
   "cell_type": "code",
   "execution_count": null,
   "id": "516c5ce6",
   "metadata": {},
   "outputs": [],
   "source": [
    "#Acessando múltiplas colunas\n",
    "dados_renamed[['valor_credito', 'escolaridade']]"
   ]
  },
  {
   "cell_type": "code",
   "execution_count": null,
   "id": "0713920b",
   "metadata": {},
   "outputs": [],
   "source": [
    "#Filtrando colunas\n",
    "dados_renamed.filter(like = 'jul')"
   ]
  },
  {
   "cell_type": "markdown",
   "id": "a46197e3",
   "metadata": {},
   "source": [
    "O df.loc utiliza os índices ou rótulos dos eixos das linhas e colunas como forma de endereçar elementos."
   ]
  },
  {
   "cell_type": "code",
   "execution_count": null,
   "id": "74c775b9",
   "metadata": {},
   "outputs": [],
   "source": [
    "#Acessando linhas com df.loc[]\n",
    "dados_renamed.loc[0]"
   ]
  },
  {
   "cell_type": "code",
   "execution_count": null,
   "id": "f1db9573",
   "metadata": {},
   "outputs": [],
   "source": [
    "#Acessando múltiplas linhas com df.loc[]\n",
    "dados_renamed.loc[0:5]"
   ]
  },
  {
   "cell_type": "code",
   "execution_count": null,
   "id": "fba984b9",
   "metadata": {},
   "outputs": [],
   "source": [
    "#Acessando linhas e colunas com df.loc[]\n",
    "dados_renamed.loc[0:2, ['valor_credito', 'sexo']]"
   ]
  },
  {
   "cell_type": "markdown",
   "id": "ac1469a0",
   "metadata": {},
   "source": [
    "Já o df.iloc utiliza números inteiros correspondentes á posição dos eixos"
   ]
  },
  {
   "cell_type": "code",
   "execution_count": null,
   "id": "dc3c2267",
   "metadata": {},
   "outputs": [],
   "source": [
    "#Localizando itens a partir do índice\n",
    "dados_renamed.iloc[3:10, 3:6] #Primeiro parâmentro é das linhas o segundo das colunas, separados por \",\""
   ]
  },
  {
   "cell_type": "code",
   "execution_count": null,
   "id": "915e9c1a",
   "metadata": {},
   "outputs": [],
   "source": [
    "#Acessar linha apartir de máscaras booleanas\n",
    "dados_renamed[dados_renamed[\"escolaridade\"] == 1]"
   ]
  },
  {
   "cell_type": "markdown",
   "id": "09fac18d",
   "metadata": {},
   "source": [
    "#### Tratamento de dados"
   ]
  },
  {
   "cell_type": "code",
   "execution_count": null,
   "id": "8e84f1d4",
   "metadata": {},
   "outputs": [],
   "source": [
    "#Nova base de dados\n",
    "credit = pd.read_csv(r\"Arquivos da Aplicação\\credit_card_clients_2.csv\")\n",
    "credit"
   ]
  },
  {
   "cell_type": "code",
   "execution_count": null,
   "id": "84a11b97",
   "metadata": {},
   "outputs": [],
   "source": [
    "#Renomeando colunas\n",
    "credit = credit.rename(columns = {'LIMIT_BAL' : 'valor_credito',\n",
    "                                        'SEX' : 'sexo',\n",
    "                                        'EDUCATION' : 'escolaridade',\n",
    "                                        'MARRIAGE':'estado_civil',\n",
    "                                        'AGE':'idade',\n",
    "                                        'PAY_0':'status_pag_set_2005',\n",
    "                                        'PAY_2':'status_pag_ago_2005',\n",
    "                                        'PAY_3':'status_pag_jul_2005',\n",
    "                                        'PAY_4':'status_pag_jun_2005',\n",
    "                                        'PAY_5':'status_pag_mai_2005',\n",
    "                                        'PAY_6':'status_pag_abr_2005',\n",
    "                                        'BILL_AMT1':'extrato_set_2005',\n",
    "                                        'BILL_AMT2':'extrato_ago_2005',\n",
    "                                        'BILL_AMT3':'extrato_jul_2005',\n",
    "                                        'BILL_AMT4':'extrato_jun_2005',\n",
    "                                        'BILL_AMT5':'extrato_mai_2005',\n",
    "                                        'BILL_AMT6':'extrato_abr_2005',\n",
    "                                        'PAY_AMT1':'valor_pag_set_2005',\n",
    "                                        'PAY_AMT2':'valor_pag_ago_2005',\n",
    "                                        'PAY_AMT3':'valor_pag_jul_2005',\n",
    "                                        'PAY_AMT4':'valor_pag_jun_2005',\n",
    "                                        'PAY_AMT5':'valor_pag_mai_2005',\n",
    "                                        'PAY_AMT6':'valor_pag_abr_2005'})"
   ]
  },
  {
   "cell_type": "code",
   "execution_count": null,
   "id": "27a38e40",
   "metadata": {},
   "outputs": [],
   "source": [
    "#Verificando valores não nulos, caso queira ver os itens que não são nulos \"df.isnull()\n",
    "credit.notnull().sum()"
   ]
  },
  {
   "cell_type": "code",
   "execution_count": null,
   "id": "b3de9fd0",
   "metadata": {},
   "outputs": [],
   "source": [
    "#Verificando Valores não nulos usando df.info()\n",
    "credit.info()"
   ]
  },
  {
   "cell_type": "code",
   "execution_count": null,
   "id": "24e19d42",
   "metadata": {},
   "outputs": [],
   "source": [
    "#Valores nulos no DataFrame em booleano\"\n",
    "credit.isnull().sum()"
   ]
  },
  {
   "cell_type": "code",
   "execution_count": null,
   "id": "84c4601f",
   "metadata": {},
   "outputs": [],
   "source": [
    "#Filtrando valores nulos\n",
    "credit[credit['ID'].isnull()]"
   ]
  },
  {
   "cell_type": "code",
   "execution_count": null,
   "id": "05e65b3a",
   "metadata": {
    "scrolled": true
   },
   "outputs": [],
   "source": [
    "#Excluido valores nulos\n",
    "credit_notnull = credit[credit['valor_credito'].notna()]\n",
    "credit_notnull"
   ]
  },
  {
   "cell_type": "code",
   "execution_count": null,
   "id": "94b1fc35",
   "metadata": {},
   "outputs": [],
   "source": [
    "#Outra forma de excluir valores nulos\n",
    "credit.dropna(inplace = True) #\"how ='all'\" apagará a linha caso todas as colunas sejam nulas\n",
    "                         #caso \"how ='any'\" apagará a linha onde alguma coluna for nula\n",
    "credit"
   ]
  },
  {
   "cell_type": "markdown",
   "id": "1a4a64d2",
   "metadata": {},
   "source": [
    "O df.drop_duplicates serve para remover duplicatas do DataFrame e recebe os seguintes parâmetros:\n",
    "\n",
    "       .subset= :especifica uma coluna ou lista de rótulos de colunas. \n",
    "           Valor padrão = None\n",
    "\n",
    "       .keep= :serve para controlar o que considerar valor duplicado:\n",
    "\n",
    "            first: descarta duplicatas, exceto a primeira ocorrência de cada.\n",
    "\n",
    "            last: descarta duplicatas, exceto a úlitma ocorrência de cada.\n",
    "\n",
    "            False: elimina TODAS as duplicatas.\n",
    "\n",
    "\n",
    "       .inplace= : recebe valores booleanos e remove as linhas que forem duplicadas \n",
    "       diretamente no DataFrame caso True"
   ]
  },
  {
   "cell_type": "code",
   "execution_count": null,
   "id": "64aeff02",
   "metadata": {},
   "outputs": [],
   "source": [
    "#Removendo dados duplicados\n",
    "credit.drop_duplicates(subset = 'ID', keep = 'first', inplace = True)\n",
    "credit"
   ]
  },
  {
   "cell_type": "code",
   "execution_count": null,
   "id": "9dd59e48",
   "metadata": {},
   "outputs": [],
   "source": [
    "#Agrupando dados com .groupby()\n",
    "credit_grouped = credit.groupby([\"escolaridade\"]).mean().reset_index\n",
    "display(credit_grouped)"
   ]
  }
 ],
 "metadata": {
  "kernelspec": {
   "display_name": "Python 3 (ipykernel)",
   "language": "python",
   "name": "python3"
  },
  "language_info": {
   "codemirror_mode": {
    "name": "ipython",
    "version": 3
   },
   "file_extension": ".py",
   "mimetype": "text/x-python",
   "name": "python",
   "nbconvert_exporter": "python",
   "pygments_lexer": "ipython3",
   "version": "3.9.7"
  }
 },
 "nbformat": 4,
 "nbformat_minor": 5
}
